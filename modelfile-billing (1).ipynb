{
 "cells": [
  {
   "cell_type": "code",
   "execution_count": null,
   "id": "f47ed96e",
   "metadata": {},
   "outputs": [],
   "source": []
  },
  {
   "cell_type": "code",
   "execution_count": null,
   "id": "1956e616",
   "metadata": {},
   "outputs": [],
   "source": []
  },
  {
   "cell_type": "code",
   "execution_count": 35,
   "id": "2a788eab",
   "metadata": {},
   "outputs": [
    {
     "name": "stdout",
     "output_type": "stream",
     "text": [
      "1/1 [==============================] - 2s 2s/step\n",
      "{0: 'apple', 1: 'banana', 2: 'carrot', 3: 'cucumber', 4: 'lemon', 5: 'onion', 6: 'orange', 7: 'pomegranate', 8: 'potato', 9: 'tomato'}\n",
      "['lemon']\n"
     ]
    }
   ],
   "source": [
    "import cv2\n",
    "import numpy as np\n",
    "from tensorflow.keras.models import load_model\n",
    "from tensorflow.keras.applications.mobilenet_v2 import preprocess_input\n",
    "from tensorflow.image import resize\n",
    "import tensorflow as tf\n",
    "\n",
    "# Loading model\n",
    "model = load_model('billingClassification.h5')\n",
    "\n",
    "def predict_label(image):\n",
    "    resized_img = cv2.resize(image, (224, 224))\n",
    "    rgb_img = cv2.cvtColor(resized_img, cv2.COLOR_BGR2RGB)\n",
    "    preprocessed_img = tf.keras.applications.mobilenet_v2.preprocess_input(rgb_img)\n",
    "    preprocessed_img = np.expand_dims(preprocessed_img, axis=0)\n",
    "    prediction = model.predict(preprocessed_img)\n",
    "    return prediction\n",
    "\n",
    "cap = cv2.VideoCapture(0)\n",
    "\n",
    "\n",
    "ret, frame = cap.read()       #if the image is caught on frame successfully - set to true otherwise break\n",
    "if not ret:\n",
    "    print('image not caught')\n",
    "\n",
    "cv2.imshow('frame', frame)\n",
    "\n",
    "# Perform prediction\n",
    "prediction = predict_label(frame)\n",
    "prediction = np.argmax(prediction,axis=1)\n",
    "train_indices = {'apple': 0, 'banana': 1, 'carrot': 2, 'cucumber': 3, 'lemon': 4, 'onion': 5, 'orange': 6,\n",
    "                     'pomegranate': 7, 'potato': 8, 'tomato': 9}\n",
    "labels = dict((v,k) for k,v in train_indices.items())\n",
    "print(labels)\n",
    "\n",
    "prediction = [labels[k] for k in prediction]\n",
    "print(prediction)\n",
    "\n",
    "# Release the capture\n",
    "cap.release()\n",
    "cv2.destroyAllWindows()\n",
    "\n",
    "if prediction[0] == 'apple':\n",
    "    pass\n",
    "elif prediction[0] == 'banana':\n",
    "    pass\n",
    "elif prediction[0] == 'carrot':\n",
    "    pass\n",
    "elif prediction[0] == 'cucumber':\n",
    "    pass\n",
    "elif prediction[0] == 'lemon':\n",
    "    pass\n",
    "elif prediction[0] == 'onion':\n",
    "    pass\n",
    "elif prediction[0] == 'orange':\n",
    "    pass\n",
    "elif prediction[0] == 'pomegranate':\n",
    "    pass\n",
    "elif prediction[0] == 'potato':\n",
    "    pass\n",
    "elif prediction[0] == 'tomato':\n",
    "    pass\n"
   ]
  },
  {
   "cell_type": "code",
   "execution_count": 33,
   "id": "58088582",
   "metadata": {},
   "outputs": [],
   "source": []
  },
  {
   "cell_type": "code",
   "execution_count": null,
   "id": "97272605",
   "metadata": {},
   "outputs": [],
   "source": []
  },
  {
   "cell_type": "code",
   "execution_count": null,
   "id": "022f383c",
   "metadata": {},
   "outputs": [],
   "source": []
  }
 ],
 "metadata": {
  "kernelspec": {
   "display_name": "Python 3 (ipykernel)",
   "language": "python",
   "name": "python3"
  },
  "language_info": {
   "codemirror_mode": {
    "name": "ipython",
    "version": 3
   },
   "file_extension": ".py",
   "mimetype": "text/x-python",
   "name": "python",
   "nbconvert_exporter": "python",
   "pygments_lexer": "ipython3",
   "version": "3.9.12"
  }
 },
 "nbformat": 4,
 "nbformat_minor": 5
}
